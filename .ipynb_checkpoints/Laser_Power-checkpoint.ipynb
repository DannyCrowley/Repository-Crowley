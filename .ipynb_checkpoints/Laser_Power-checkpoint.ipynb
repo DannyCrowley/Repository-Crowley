{
 "cells": [
  {
   "cell_type": "code",
   "execution_count": 15,
   "metadata": {},
   "outputs": [],
   "source": [
    "%matplotlib inline\n",
    "import numpy as np\n",
    "import scipy as sp\n",
    "from scipy import constants as cnst\n",
    "import matplotlib.pyplot as plt\n",
    "from matplotlib import cm\n",
    "from scipy.stats import norm\n",
    "import timeit\n",
    "from matplotlib.offsetbox import AnchoredText\n",
    "from matplotlib import rcParams\n",
    "import scipy.optimize as op\n",
    "rcParams.update({'font.size': 18, 'font.family': 'serif'})\n",
    "import FITTING"
   ]
  },
  {
   "cell_type": "code",
   "execution_count": 17,
   "metadata": {},
   "outputs": [
    {
     "name": "stdout",
     "output_type": "stream",
     "text": [
      "4.91e+02 mm^2 = 4.91e+00 cm^2\n",
      "Average_power = 4.0 W\n",
      "Energy = 0.4 J\n",
      "Peak_Pulse_power = 80.0 MW\n",
      "Energy per Area = 8.15e-04 J/cm^2\n"
     ]
    }
   ],
   "source": [
    "Beam_size = 25.0 #mm diameter\n",
    "A = np.pi* (Beam_size/2)**2\n",
    "print('{:.2e}'.format(A),'mm^2 =','{:.2e}'.format(A/100),'cm^2' )\n",
    "\n",
    "E_1064 = 850e-3 #J at 1064 nm \n",
    "E_532 = 400e-3 #J at 532 nm\n",
    "Rep_rate = 10 #1/s\n",
    "Peak_duration = 5e-9 #s\n",
    "\n",
    "Average_power = E_532 * Rep_rate  # W, to be measured.\n",
    "print('Average_power =',Average_power, 'W')\n",
    "\n",
    "Energy = Average_power / Rep_rate  #Ws = J\n",
    "print('Energy =',Energy, 'J')\n",
    "\n",
    "Peak_Pulse_power = Energy / Peak_duration\n",
    "print('Peak_Pulse_power =',Peak_Pulse_power/1e6, 'MW')\n",
    "\n",
    "E_A = Energy / A  #J/cm^2\n",
    "print('Energy per Area =','{:.2e}'.format(E_A), 'J/cm^2')"
   ]
  },
  {
   "cell_type": "code",
   "execution_count": null,
   "metadata": {},
   "outputs": [],
   "source": [
    "f3 = 3e8 * (1/5e-6 + 1/532e-9)\n",
    "print(f3,'Hz')\n",
    "print(3e8/f3*1e9)"
   ]
  },
  {
   "cell_type": "code",
   "execution_count": 14,
   "metadata": {},
   "outputs": [
    {
     "name": "stdout",
     "output_type": "stream",
     "text": [
      "s = 8.99377374 m\n"
     ]
    }
   ],
   "source": [
    "t = 30e-9   #s\n",
    "s = t * cnst.speed_of_light #~3e8 m/s\n",
    "print('s =',s, 'm')"
   ]
  },
  {
   "cell_type": "code",
   "execution_count": 1,
   "metadata": {},
   "outputs": [
    {
     "name": "stdout",
     "output_type": "stream",
     "text": [
      "ok\n"
     ]
    }
   ],
   "source": [
    "print('ok')"
   ]
  },
  {
   "cell_type": "code",
   "execution_count": null,
   "metadata": {},
   "outputs": [],
   "source": []
  }
 ],
 "metadata": {
  "kernelspec": {
   "display_name": "Python 3",
   "language": "python",
   "name": "python3"
  },
  "language_info": {
   "codemirror_mode": {
    "name": "ipython",
    "version": 3
   },
   "file_extension": ".py",
   "mimetype": "text/x-python",
   "name": "python",
   "nbconvert_exporter": "python",
   "pygments_lexer": "ipython3",
   "version": "3.7.4"
  }
 },
 "nbformat": 4,
 "nbformat_minor": 4
}
